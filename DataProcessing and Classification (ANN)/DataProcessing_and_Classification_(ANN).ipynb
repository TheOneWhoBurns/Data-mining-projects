{
  "nbformat": 4,
  "nbformat_minor": 0,
  "metadata": {
    "colab": {
      "provenance": [],
      "authorship_tag": "ABX9TyM16S/PtlWkwGVOsMVIJEYl",
      "include_colab_link": true
    },
    "kernelspec": {
      "name": "python3",
      "display_name": "Python 3"
    },
    "language_info": {
      "name": "python"
    }
  },
  "cells": [
    {
      "cell_type": "markdown",
      "metadata": {
        "id": "view-in-github",
        "colab_type": "text"
      },
      "source": [
        "<a href=\"https://colab.research.google.com/github/Pamela2710/Data-Mining/blob/main/DataProcessing%20and%20Classification%20(ANN)/DataProcessing_and_Classification_(ANN).ipynb\" target=\"_parent\"><img src=\"https://colab.research.google.com/assets/colab-badge.svg\" alt=\"Open In Colab\"/></a>"
      ]
    },
    {
      "cell_type": "code",
      "execution_count": null,
      "metadata": {
        "id": "J4XP_O5zbeou"
      },
      "outputs": [],
      "source": [
        "import pandas as pd\n",
        "import numpy as np\n",
        "import random\n",
        "from sklearn.preprocessing import MinMaxScaler, LabelEncoder, label_binarize\n",
        "from sklearn.model_selection import train_test_split, cross_val_score, StratifiedKFold\n",
        "from sklearn.metrics import accuracy_score,recall_score,precision_score,roc_auc_score, f1_score, matthews_corrcoef, confusion_matrix, roc_curve, precision_recall_curve,auc\n",
        "from sklearn.ensemble import RandomForestClassifier\n",
        "from sklearn.feature_selection import SelectFromModel, mutual_info_classif\n",
        "from sklearn.base import clone\n",
        "from scipy.stats import entropy\n",
        "from sklearn.datasets import make_classification\n",
        "from sklearn.feature_selection import SelectKBest\n",
        "from sklearn.neighbors import KNeighborsClassifier\n",
        "from sklearn.naive_bayes import GaussianNB\n",
        "from matplotlib import pyplot as plt\n",
        "from sklearn.impute import SimpleImputer\n",
        "import seaborn as sns\n",
        "import re\n",
        "import warnings\n",
        "from sklearn.tree import DecisionTreeClassifier\n",
        "warnings.filterwarnings('ignore')\n",
        "\n",
        "\n",
        "# Función para cargar y preprocesar los datos\n",
        "def load_and_preprocess_data():\n",
        "    dataset = pd.read_csv('https://raw.githubusercontent.com/Pamela2710/Data-Mining/main/DataProcessing/features_completas.csv', encoding='latin-1')\n",
        "    dataset.dropna(inplace=True)\n",
        "    dataset.drop(columns=['espectrograma etiqueta'], inplace=True)  # Eliminar columna no relevante\n",
        "\n",
        "    label_encoder = LabelEncoder()\n",
        "    dataset['Etiqueta'] = label_encoder.fit_transform(dataset['Etiqueta'])\n",
        "\n",
        "    X = dataset.iloc[:, :-1]\n",
        "    y = dataset['Etiqueta']\n",
        "\n",
        "    return pd.DataFrame(X, columns=X.columns), y\n",
        "\n",
        "\n",
        "x, y = load_and_preprocess_data()\n",
        "\n",
        "scaler = MinMaxScaler()\n",
        "\n",
        "# Normalización\n",
        "x_scaled = pd.DataFrame(scaler.fit_transform(x), columns=x.columns)\n"
      ]
    },
    {
      "cell_type": "code",
      "source": [
        "a = [ [0, 4, 6, 13, 14, 18, 20, 22, 23, 26, 30, 34, 37, 41, 45, 48, 49, 50, 51, 54, 57, 58, 62, 66, 69, 74, 75, 76, 77, 78, 81, 82, 83, 85, 86, 89, 92, 93, 94, 95, 99, 102, 103, 106, 107],\n",
        "      [3, 8, 12, 13, 15, 17, 19, 23, 24, 25, 26, 27, 29, 32, 35, 36, 38, 41, 42, 44, 47, 48, 50, 51, 54, 55, 57, 59, 64, 68, 69, 73, 77, 78, 79, 81, 82, 85, 86, 89, 90, 91, 98, 100, 102, 103, 104, 106],\n",
        "      [2, 4, 5, 6, 12, 15, 16, 20, 22, 23, 24, 25, 26, 27, 29, 30, 31, 33, 35, 36, 40, 46, 49, 50, 51, 53, 57, 58, 61, 62, 64, 69, 71, 72, 75, 76, 78, 79, 81, 86, 89, 90, 91, 95, 97, 99, 100, 101, 102, 103, 104, 106]]\n",
        "\n",
        "# Obtener características y etiquetas\n",
        "\n",
        "X_list = []\n",
        "for indices in a:\n",
        "    reduced = x_scaled.iloc[:, indices]\n",
        "    X_list.append(reduced)"
      ],
      "metadata": {
        "id": "RNtRAwznbsNB"
      },
      "execution_count": null,
      "outputs": []
    },
    {
      "cell_type": "code",
      "source": [
        "def stratified_kfold_cv(X, y, n_splits=10):\n",
        "    stratified_kfold = StratifiedKFold(n_splits=n_splits, shuffle=True, random_state=42)\n",
        "    for train_index, val_index in stratified_kfold.split(X, y):\n",
        "        X_train, y_train = X.iloc[train_index], y.iloc[train_index]  # Usar .iloc para acceder a las filas por índice\n",
        "        X_val, y_val = X.iloc[val_index], y.iloc[val_index]\n",
        "\n",
        "        yield X_train, y_train, X_val, y_val"
      ],
      "metadata": {
        "id": "EWxxXdNDbtDe"
      },
      "execution_count": null,
      "outputs": []
    }
  ]
}